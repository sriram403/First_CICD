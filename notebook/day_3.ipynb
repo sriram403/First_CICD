{
 "cells": [
  {
   "cell_type": "code",
   "execution_count": 1,
   "metadata": {},
   "outputs": [],
   "source": [
    "url = \"B:\\\\jupyternotebook\\\\mlboot\\\\mlprojectpipelines\\\\tutorial1\\\\tutorial_project\\\\housing\\\\artifact\\\\data_ingestion\\\\2022-19-03_14-19-15\\\\ingested_data\\\\train\\\\housing.csv\""
   ]
  },
  {
   "cell_type": "code",
   "execution_count": 2,
   "metadata": {},
   "outputs": [
    {
     "data": {
      "text/html": [
       "<div>\n",
       "<style scoped>\n",
       "    .dataframe tbody tr th:only-of-type {\n",
       "        vertical-align: middle;\n",
       "    }\n",
       "\n",
       "    .dataframe tbody tr th {\n",
       "        vertical-align: top;\n",
       "    }\n",
       "\n",
       "    .dataframe thead th {\n",
       "        text-align: right;\n",
       "    }\n",
       "</style>\n",
       "<table border=\"1\" class=\"dataframe\">\n",
       "  <thead>\n",
       "    <tr style=\"text-align: right;\">\n",
       "      <th></th>\n",
       "      <th>longitude</th>\n",
       "      <th>latitude</th>\n",
       "      <th>housing_median_age</th>\n",
       "      <th>total_rooms</th>\n",
       "      <th>total_bedrooms</th>\n",
       "      <th>population</th>\n",
       "      <th>households</th>\n",
       "      <th>median_income</th>\n",
       "      <th>median_house_value</th>\n",
       "      <th>ocean_proximity</th>\n",
       "    </tr>\n",
       "  </thead>\n",
       "  <tbody>\n",
       "    <tr>\n",
       "      <th>0</th>\n",
       "      <td>-121.27</td>\n",
       "      <td>38.70</td>\n",
       "      <td>16.0</td>\n",
       "      <td>3747.0</td>\n",
       "      <td>586.0</td>\n",
       "      <td>1817.0</td>\n",
       "      <td>590.0</td>\n",
       "      <td>4.6488</td>\n",
       "      <td>145300.0</td>\n",
       "      <td>INLAND</td>\n",
       "    </tr>\n",
       "    <tr>\n",
       "      <th>1</th>\n",
       "      <td>-117.00</td>\n",
       "      <td>32.85</td>\n",
       "      <td>24.0</td>\n",
       "      <td>1888.0</td>\n",
       "      <td>319.0</td>\n",
       "      <td>950.0</td>\n",
       "      <td>319.0</td>\n",
       "      <td>5.2820</td>\n",
       "      <td>140800.0</td>\n",
       "      <td>&lt;1H OCEAN</td>\n",
       "    </tr>\n",
       "    <tr>\n",
       "      <th>2</th>\n",
       "      <td>-122.51</td>\n",
       "      <td>37.96</td>\n",
       "      <td>39.0</td>\n",
       "      <td>3302.0</td>\n",
       "      <td>684.0</td>\n",
       "      <td>1574.0</td>\n",
       "      <td>653.0</td>\n",
       "      <td>3.6863</td>\n",
       "      <td>263800.0</td>\n",
       "      <td>NEAR BAY</td>\n",
       "    </tr>\n",
       "    <tr>\n",
       "      <th>3</th>\n",
       "      <td>-120.99</td>\n",
       "      <td>37.62</td>\n",
       "      <td>37.0</td>\n",
       "      <td>2014.0</td>\n",
       "      <td>505.0</td>\n",
       "      <td>1787.0</td>\n",
       "      <td>515.0</td>\n",
       "      <td>1.5515</td>\n",
       "      <td>54100.0</td>\n",
       "      <td>INLAND</td>\n",
       "    </tr>\n",
       "    <tr>\n",
       "      <th>4</th>\n",
       "      <td>-118.19</td>\n",
       "      <td>34.10</td>\n",
       "      <td>39.0</td>\n",
       "      <td>2054.0</td>\n",
       "      <td>423.0</td>\n",
       "      <td>1205.0</td>\n",
       "      <td>403.0</td>\n",
       "      <td>4.2390</td>\n",
       "      <td>213000.0</td>\n",
       "      <td>&lt;1H OCEAN</td>\n",
       "    </tr>\n",
       "    <tr>\n",
       "      <th>...</th>\n",
       "      <td>...</td>\n",
       "      <td>...</td>\n",
       "      <td>...</td>\n",
       "      <td>...</td>\n",
       "      <td>...</td>\n",
       "      <td>...</td>\n",
       "      <td>...</td>\n",
       "      <td>...</td>\n",
       "      <td>...</td>\n",
       "      <td>...</td>\n",
       "    </tr>\n",
       "    <tr>\n",
       "      <th>16507</th>\n",
       "      <td>-118.30</td>\n",
       "      <td>34.06</td>\n",
       "      <td>33.0</td>\n",
       "      <td>2437.0</td>\n",
       "      <td>1283.0</td>\n",
       "      <td>3906.0</td>\n",
       "      <td>1084.0</td>\n",
       "      <td>2.0332</td>\n",
       "      <td>270000.0</td>\n",
       "      <td>&lt;1H OCEAN</td>\n",
       "    </tr>\n",
       "    <tr>\n",
       "      <th>16508</th>\n",
       "      <td>-120.97</td>\n",
       "      <td>38.42</td>\n",
       "      <td>16.0</td>\n",
       "      <td>1748.0</td>\n",
       "      <td>322.0</td>\n",
       "      <td>4930.0</td>\n",
       "      <td>287.0</td>\n",
       "      <td>4.3029</td>\n",
       "      <td>121900.0</td>\n",
       "      <td>INLAND</td>\n",
       "    </tr>\n",
       "    <tr>\n",
       "      <th>16509</th>\n",
       "      <td>-121.94</td>\n",
       "      <td>36.97</td>\n",
       "      <td>31.0</td>\n",
       "      <td>1738.0</td>\n",
       "      <td>422.0</td>\n",
       "      <td>746.0</td>\n",
       "      <td>355.0</td>\n",
       "      <td>2.5172</td>\n",
       "      <td>330800.0</td>\n",
       "      <td>NEAR OCEAN</td>\n",
       "    </tr>\n",
       "    <tr>\n",
       "      <th>16510</th>\n",
       "      <td>-122.40</td>\n",
       "      <td>37.75</td>\n",
       "      <td>52.0</td>\n",
       "      <td>1182.0</td>\n",
       "      <td>307.0</td>\n",
       "      <td>1029.0</td>\n",
       "      <td>306.0</td>\n",
       "      <td>2.0577</td>\n",
       "      <td>214600.0</td>\n",
       "      <td>NEAR BAY</td>\n",
       "    </tr>\n",
       "    <tr>\n",
       "      <th>16511</th>\n",
       "      <td>-116.57</td>\n",
       "      <td>35.43</td>\n",
       "      <td>8.0</td>\n",
       "      <td>9975.0</td>\n",
       "      <td>1743.0</td>\n",
       "      <td>6835.0</td>\n",
       "      <td>1439.0</td>\n",
       "      <td>2.7138</td>\n",
       "      <td>22500.0</td>\n",
       "      <td>INLAND</td>\n",
       "    </tr>\n",
       "  </tbody>\n",
       "</table>\n",
       "<p>16512 rows × 10 columns</p>\n",
       "</div>"
      ],
      "text/plain": [
       "       longitude  latitude  housing_median_age  total_rooms  total_bedrooms  \\\n",
       "0        -121.27     38.70                16.0       3747.0           586.0   \n",
       "1        -117.00     32.85                24.0       1888.0           319.0   \n",
       "2        -122.51     37.96                39.0       3302.0           684.0   \n",
       "3        -120.99     37.62                37.0       2014.0           505.0   \n",
       "4        -118.19     34.10                39.0       2054.0           423.0   \n",
       "...          ...       ...                 ...          ...             ...   \n",
       "16507    -118.30     34.06                33.0       2437.0          1283.0   \n",
       "16508    -120.97     38.42                16.0       1748.0           322.0   \n",
       "16509    -121.94     36.97                31.0       1738.0           422.0   \n",
       "16510    -122.40     37.75                52.0       1182.0           307.0   \n",
       "16511    -116.57     35.43                 8.0       9975.0          1743.0   \n",
       "\n",
       "       population  households  median_income  median_house_value  \\\n",
       "0          1817.0       590.0         4.6488            145300.0   \n",
       "1           950.0       319.0         5.2820            140800.0   \n",
       "2          1574.0       653.0         3.6863            263800.0   \n",
       "3          1787.0       515.0         1.5515             54100.0   \n",
       "4          1205.0       403.0         4.2390            213000.0   \n",
       "...           ...         ...            ...                 ...   \n",
       "16507      3906.0      1084.0         2.0332            270000.0   \n",
       "16508      4930.0       287.0         4.3029            121900.0   \n",
       "16509       746.0       355.0         2.5172            330800.0   \n",
       "16510      1029.0       306.0         2.0577            214600.0   \n",
       "16511      6835.0      1439.0         2.7138             22500.0   \n",
       "\n",
       "      ocean_proximity  \n",
       "0              INLAND  \n",
       "1           <1H OCEAN  \n",
       "2            NEAR BAY  \n",
       "3              INLAND  \n",
       "4           <1H OCEAN  \n",
       "...               ...  \n",
       "16507       <1H OCEAN  \n",
       "16508          INLAND  \n",
       "16509      NEAR OCEAN  \n",
       "16510        NEAR BAY  \n",
       "16511          INLAND  \n",
       "\n",
       "[16512 rows x 10 columns]"
      ]
     },
     "execution_count": 2,
     "metadata": {},
     "output_type": "execute_result"
    }
   ],
   "source": [
    "import pandas as pd\n",
    "df = pd.read_csv(url)\n",
    "df"
   ]
  },
  {
   "cell_type": "code",
   "execution_count": 4,
   "metadata": {},
   "outputs": [
    {
     "data": {
      "text/plain": [
       "{'columns': {'longitude': 'float',\n",
       "  'latitude': 'float',\n",
       "  'housing_median_age': 'float',\n",
       "  'total_rooms': 'float',\n",
       "  'total_bedrooms': 'float',\n",
       "  'population': 'float',\n",
       "  'households': 'float',\n",
       "  'median_income': 'float',\n",
       "  'median_house_value': 'float',\n",
       "  'ocean_proximity': 'category'},\n",
       " 'numerical_columns': ['longitude',\n",
       "  'latitude',\n",
       "  'housing_median_age',\n",
       "  'total_rooms',\n",
       "  'total_bedrooms',\n",
       "  'population',\n",
       "  'households',\n",
       "  'median_income'],\n",
       " 'categorical_columns': ['ocean_proximity'],\n",
       " 'target_column': 'median_house_value',\n",
       " 'domain_value': {'ocean_proximity': ['<1H OCEAN',\n",
       "   'INLAND',\n",
       "   'NEAR OCEAN',\n",
       "   'NEAR BAY',\n",
       "   'ISLAND']}}"
      ]
     },
     "execution_count": 4,
     "metadata": {},
     "output_type": "execute_result"
    }
   ],
   "source": [
    "import yaml\n",
    "url = \"B:\\\\jupyternotebook\\\\mlboot\\\\mlprojectpipelines\\\\tutorial1\\\\tutorial_project\\\\config\\\\schema.yaml\"\n",
    "with open(url,\"r\") as f:\n",
    "    file = yaml.safe_load(f)\n",
    "file"
   ]
  },
  {
   "cell_type": "code",
   "execution_count": 5,
   "metadata": {},
   "outputs": [
    {
     "data": {
      "text/plain": [
       "Index(['longitude', 'latitude', 'housing_median_age', 'total_rooms',\n",
       "       'total_bedrooms', 'population', 'households', 'median_income',\n",
       "       'median_house_value', 'ocean_proximity'],\n",
       "      dtype='object')"
      ]
     },
     "execution_count": 5,
     "metadata": {},
     "output_type": "execute_result"
    }
   ],
   "source": [
    "df.columns"
   ]
  },
  {
   "cell_type": "code",
   "execution_count": 6,
   "metadata": {},
   "outputs": [
    {
     "data": {
      "text/plain": [
       "array([ True,  True,  True,  True,  True,  True,  True,  True,  True,\n",
       "        True])"
      ]
     },
     "execution_count": 6,
     "metadata": {},
     "output_type": "execute_result"
    }
   ],
   "source": [
    "list(file[\"columns\"].keys()) == df.columns"
   ]
  },
  {
   "cell_type": "code",
   "execution_count": 7,
   "metadata": {},
   "outputs": [
    {
     "data": {
      "text/plain": [
       "True"
      ]
     },
     "execution_count": 7,
     "metadata": {},
     "output_type": "execute_result"
    }
   ],
   "source": [
    "len(list(file[\"columns\"].keys())) == len(df.columns)"
   ]
  },
  {
   "cell_type": "code",
   "execution_count": 8,
   "metadata": {},
   "outputs": [],
   "source": [
    "i = file[\"domain_value\"][\"ocean_proximity\"]"
   ]
  },
  {
   "cell_type": "code",
   "execution_count": 9,
   "metadata": {},
   "outputs": [],
   "source": [
    "v = df.ocean_proximity.value_counts().index"
   ]
  },
  {
   "cell_type": "code",
   "execution_count": 10,
   "metadata": {},
   "outputs": [
    {
     "data": {
      "text/plain": [
       "array([ True,  True,  True,  True,  True])"
      ]
     },
     "execution_count": 10,
     "metadata": {},
     "output_type": "execute_result"
    }
   ],
   "source": [
    "i==v"
   ]
  },
  {
   "cell_type": "code",
   "execution_count": 14,
   "metadata": {},
   "outputs": [
    {
     "data": {
      "text/plain": [
       "array([ True,  True,  True,  True,  True,  True,  True,  True,  True,\n",
       "        True])"
      ]
     },
     "execution_count": 14,
     "metadata": {},
     "output_type": "execute_result"
    }
   ],
   "source": [
    "is_columns_name_equal = list(file[\"columns\"].keys()) == df.columns\n",
    "is_columns_name_equal"
   ]
  },
  {
   "cell_type": "code",
   "execution_count": 59,
   "metadata": {},
   "outputs": [],
   "source": [
    "def checking_values(data)->bool:\n",
    "    link = f\"B:\\\\jupyternotebook\\\\mlboot\\\\mlprojectpipelines\\\\tutorial1\\\\tutorial_project\\\\housing\\\\artifact\\\\data_ingestion\\\\2022-19-03_14-19-15\\\\ingested_data\\\\{data}\\\\housing.csv\"\n",
    "    df = pd.read_csv(link)\n",
    "                \n",
    "    is_columns_name_equal = list(file[\"columns\"].keys()) == df.columns\n",
    "    is_columns_length_equal = len(list(file[\"columns\"].keys())) == len(df.columns)\n",
    "    i = file[\"domain_value\"][\"ocean_proximity\"]\n",
    "    v = df.ocean_proximity.value_counts().index\n",
    "    is_domain_values_are_equal = i==v\n",
    "    z = is_columns_length_equal and set(is_columns_name_equal) and set(is_domain_values_are_equal)\n",
    "    if False not in z:             \n",
    "        return True"
   ]
  },
  {
   "cell_type": "code",
   "execution_count": 60,
   "metadata": {},
   "outputs": [
    {
     "data": {
      "text/plain": [
       "True"
      ]
     },
     "execution_count": 60,
     "metadata": {},
     "output_type": "execute_result"
    }
   ],
   "source": [
    "checking_values(\"test\")"
   ]
  },
  {
   "cell_type": "code",
   "execution_count": 37,
   "metadata": {},
   "outputs": [
    {
     "name": "stdout",
     "output_type": "stream",
     "text": [
      "true\n"
     ]
    }
   ],
   "source": [
    "i = [True,True]\n",
    "n = [True,True]\n",
    "kk = [True,True]\n",
    "if False not in i and n and kk:\n",
    "    print(\"true\")"
   ]
  },
  {
   "cell_type": "code",
   "execution_count": null,
   "metadata": {},
   "outputs": [],
   "source": []
  }
 ],
 "metadata": {
  "kernelspec": {
   "display_name": "Python 3.9.15 (conda)",
   "language": "python",
   "name": "python3"
  },
  "language_info": {
   "codemirror_mode": {
    "name": "ipython",
    "version": 3
   },
   "file_extension": ".py",
   "mimetype": "text/x-python",
   "name": "python",
   "nbconvert_exporter": "python",
   "pygments_lexer": "ipython3",
   "version": "3.9.15"
  },
  "orig_nbformat": 4,
  "vscode": {
   "interpreter": {
    "hash": "2559219d1af0343b1aa2dfe76737aee2c2e8f2ac88a59c9a510715ae976b882a"
   }
  }
 },
 "nbformat": 4,
 "nbformat_minor": 2
}
