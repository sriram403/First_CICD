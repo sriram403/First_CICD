{
 "cells": [
  {
   "cell_type": "code",
   "execution_count": 1,
   "metadata": {},
   "outputs": [],
   "source": [
    "import os "
   ]
  },
  {
   "cell_type": "code",
   "execution_count": 2,
   "metadata": {},
   "outputs": [],
   "source": [
    "os.chdir(os.pardir)"
   ]
  },
  {
   "cell_type": "code",
   "execution_count": 3,
   "metadata": {},
   "outputs": [
    {
     "data": {
      "text/plain": [
       "'..'"
      ]
     },
     "execution_count": 3,
     "metadata": {},
     "output_type": "execute_result"
    }
   ],
   "source": [
    "os.pardir"
   ]
  },
  {
   "cell_type": "code",
   "execution_count": 4,
   "metadata": {},
   "outputs": [
    {
     "data": {
      "text/plain": [
       "'b:\\\\jupyternotebook\\\\mlboot\\\\mlprojectpipelines\\\\tutorial1\\\\tutorial_project'"
      ]
     },
     "execution_count": 4,
     "metadata": {},
     "output_type": "execute_result"
    }
   ],
   "source": [
    "os.getcwd()"
   ]
  },
  {
   "cell_type": "code",
   "execution_count": 5,
   "metadata": {},
   "outputs": [
    {
     "data": {
      "text/plain": [
       "'b:\\\\jupyternotebook\\\\mlboot\\\\mlprojectpipelines\\\\tutorial1\\\\tutorial_project\\\\config\\\\config.yaml'"
      ]
     },
     "execution_count": 5,
     "metadata": {},
     "output_type": "execute_result"
    }
   ],
   "source": [
    "config_file_path = os.path.join(os.getcwd(),\"config\",\"config.yaml\")\n",
    "config_file_path"
   ]
  },
  {
   "cell_type": "code",
   "execution_count": 8,
   "metadata": {},
   "outputs": [],
   "source": [
    "import pandas as pd"
   ]
  },
  {
   "cell_type": "code",
   "execution_count": 9,
   "metadata": {},
   "outputs": [],
   "source": [
    "from housing.pipeline.pipeline import Pipeline\n",
    "from housing.config.configuration import MyConfigurationInfo"
   ]
  },
  {
   "cell_type": "code",
   "execution_count": 10,
   "metadata": {},
   "outputs": [],
   "source": [
    "config = MyConfigurationInfo(config_file_path)"
   ]
  },
  {
   "cell_type": "code",
   "execution_count": 11,
   "metadata": {},
   "outputs": [
    {
     "data": {
      "text/plain": [
       "TrainingPipelineConfig(artifact_dir='b:\\\\jupyternotebook\\\\mlboot\\\\mlprojectpipelines\\\\tutorial1\\\\tutorial_project\\\\housing\\\\artifact')"
      ]
     },
     "execution_count": 11,
     "metadata": {},
     "output_type": "execute_result"
    }
   ],
   "source": [
    "config.get_modeltrainingpipeline_config()"
   ]
  },
  {
   "cell_type": "code",
   "execution_count": 12,
   "metadata": {},
   "outputs": [
    {
     "data": {
      "text/plain": [
       "'b:\\\\jupyternotebook\\\\mlboot\\\\mlprojectpipelines\\\\tutorial1\\\\tutorial_project\\\\housing\\\\artifact\\\\experiment\\\\experiment.csv'"
      ]
     },
     "execution_count": 12,
     "metadata": {},
     "output_type": "execute_result"
    }
   ],
   "source": [
    "pipeline = Pipeline(config)\n",
    "pipeline.experiment_file_path"
   ]
  },
  {
   "cell_type": "code",
   "execution_count": 13,
   "metadata": {},
   "outputs": [
    {
     "data": {
      "text/plain": [
       "Experiment(experiment_id=None, initialization_timestamp=None, artifact_time_stamp=None, running_status=None, start_time=None, stop_time=None, execution_time=None, message=None, experiment_file_path=None, accuracy=None, is_model_accepted=None)"
      ]
     },
     "execution_count": 13,
     "metadata": {},
     "output_type": "execute_result"
    }
   ],
   "source": [
    "pipeline.experiment"
   ]
  },
  {
   "cell_type": "code",
   "execution_count": 14,
   "metadata": {},
   "outputs": [
    {
     "data": {
      "text/plain": [
       "Experiment(experiment_id=None, initialization_timestamp=None, artifact_time_stamp=None, running_status=None, start_time=None, stop_time=None, execution_time=None, message=None, experiment_file_path=None, accuracy=None, is_model_accepted=None)"
      ]
     },
     "execution_count": 14,
     "metadata": {},
     "output_type": "execute_result"
    }
   ],
   "source": [
    "pipeline1 = Pipeline(config)\n",
    "pipeline1.experiment"
   ]
  },
  {
   "cell_type": "code",
   "execution_count": 15,
   "metadata": {},
   "outputs": [
    {
     "name": "stdout",
     "output_type": "stream",
     "text": [
      "running pipeline\n"
     ]
    },
    {
     "name": "stdout",
     "output_type": "stream",
     "text": [
      "b:\\jupyternotebook\\mlboot\\mlprojectpipelines\\tutorial1\\tutorial_project\\housing\\artifact\\data_ingestion\\2022-12-14-21-40-13\\tgz_data\\housing.tgz\n"
     ]
    }
   ],
   "source": [
    "pipeline1.start()"
   ]
  },
  {
   "cell_type": "code",
   "execution_count": 16,
   "metadata": {},
   "outputs": [
    {
     "data": {
      "text/plain": [
       "Experiment(experiment_id='404c72b2-3629-477e-886e-4e1723833dcd', initialization_timestamp='2022-12-14-21-40-13', artifact_time_stamp='2022-12-14-21-40-13', running_status=True, start_time=datetime.datetime(2022, 12, 14, 21, 40, 26, 354197), stop_time=None, execution_time=None, message='Pipeline has been started.', experiment_file_path='b:\\\\jupyternotebook\\\\mlboot\\\\mlprojectpipelines\\\\tutorial1\\\\tutorial_project\\\\housing\\\\artifact\\\\experiment\\\\experiment.csv', accuracy=None, is_model_accepted=None)"
      ]
     },
     "execution_count": 16,
     "metadata": {},
     "output_type": "execute_result"
    }
   ],
   "source": [
    "pipeline1.experiment"
   ]
  },
  {
   "cell_type": "code",
   "execution_count": 17,
   "metadata": {},
   "outputs": [
    {
     "data": {
      "text/plain": [
       "'b:\\\\jupyternotebook\\\\mlboot\\\\mlprojectpipelines\\\\tutorial1\\\\tutorial_project\\\\housing\\\\artifact\\\\experiment\\\\experiment.csv'"
      ]
     },
     "execution_count": 17,
     "metadata": {},
     "output_type": "execute_result"
    },
    {
     "name": "stdout",
     "output_type": "stream",
     "text": [
      "{'fit_intercept': True}\n",
      "{'min_samples_leaf': 2}\n",
      "{'cv': 5, 'verbose': 2}\n",
      "Fitting 5 folds for each of 2 candidates, totalling 10 fits\n",
      "[CV] END .................................fit_intercept=True; total time=   0.0s\n",
      "[CV] END .................................fit_intercept=True; total time=   0.0s\n",
      "[CV] END .................................fit_intercept=True; total time=   0.0s\n",
      "[CV] END .................................fit_intercept=True; total time=   0.0s\n",
      "[CV] END .................................fit_intercept=True; total time=   0.0s\n",
      "[CV] END ................................fit_intercept=False; total time=   0.0s\n",
      "[CV] END ................................fit_intercept=False; total time=   0.0s\n",
      "[CV] END ................................fit_intercept=False; total time=   0.0s\n",
      "[CV] END ................................fit_intercept=False; total time=   0.0s\n",
      "[CV] END ................................fit_intercept=False; total time=   0.0s\n",
      "{'cv': 5, 'verbose': 2}\n",
      "Fitting 5 folds for each of 9 candidates, totalling 45 fits\n"
     ]
    }
   ],
   "source": [
    "Pipeline.experiment.experiment_file_path"
   ]
  },
  {
   "cell_type": "code",
   "execution_count": 18,
   "metadata": {},
   "outputs": [
    {
     "name": "stdout",
     "output_type": "stream",
     "text": [
      "running pipeline\n"
     ]
    },
    {
     "name": "stdout",
     "output_type": "stream",
     "text": [
      "[CV] END ...............min_samples_leaf=4, n_estimators=100; total time=   1.9s\n"
     ]
    }
   ],
   "source": [
    "pipeline.start()"
   ]
  },
  {
   "cell_type": "code",
   "execution_count": 19,
   "metadata": {},
   "outputs": [],
   "source": [
    "# pipeline.join()"
   ]
  },
  {
   "cell_type": "code",
   "execution_count": 20,
   "metadata": {},
   "outputs": [
    {
     "name": "stdout",
     "output_type": "stream",
     "text": [
      "running pipeline\n"
     ]
    },
    {
     "data": {
      "text/plain": [
       "Experiment(experiment_id='404c72b2-3629-477e-886e-4e1723833dcd', initialization_timestamp='2022-12-14-21-40-13', artifact_time_stamp='2022-12-14-21-40-13', running_status=True, start_time=datetime.datetime(2022, 12, 14, 21, 40, 26, 354197), stop_time=None, execution_time=None, message='Pipeline has been started.', experiment_file_path='b:\\\\jupyternotebook\\\\mlboot\\\\mlprojectpipelines\\\\tutorial1\\\\tutorial_project\\\\housing\\\\artifact\\\\experiment\\\\experiment.csv', accuracy=None, is_model_accepted=None)"
      ]
     },
     "execution_count": 20,
     "metadata": {},
     "output_type": "execute_result"
    },
    {
     "name": "stdout",
     "output_type": "stream",
     "text": [
      "[CV] END ...............min_samples_leaf=4, n_estimators=100; total time=   1.8s\n"
     ]
    }
   ],
   "source": [
    "pipeline.run_pipeline()"
   ]
  },
  {
   "cell_type": "code",
   "execution_count": 21,
   "metadata": {},
   "outputs": [],
   "source": [
    "from housing.pipeline.pipeline import Pipeline"
   ]
  },
  {
   "cell_type": "code",
   "execution_count": 22,
   "metadata": {},
   "outputs": [
    {
     "name": "stdout",
     "output_type": "stream",
     "text": [
      "[CV] END ...............min_samples_leaf=4, n_estimators=100; total time=   2.0s\n"
     ]
    },
    {
     "ename": "TypeError",
     "evalue": "'Pipeline' object is not callable",
     "output_type": "error",
     "traceback": [
      "\u001b[1;31m---------------------------------------------------------------------------\u001b[0m",
      "\u001b[1;31mTypeError\u001b[0m                                 Traceback (most recent call last)",
      "Cell \u001b[1;32mIn[22], line 1\u001b[0m\n\u001b[1;32m----> 1\u001b[0m pipeline()\n",
      "\u001b[1;31mTypeError\u001b[0m: 'Pipeline' object is not callable"
     ]
    },
    {
     "name": "stdout",
     "output_type": "stream",
     "text": [
      "[CV] END ...............min_samples_leaf=4, n_estimators=100; total time=   2.0s\n",
      "[CV] END ...............min_samples_leaf=4, n_estimators=100; total time=   1.9s\n",
      "[CV] END ...............min_samples_leaf=4, n_estimators=200; total time=   3.4s\n"
     ]
    }
   ],
   "source": [
    "pipeline()"
   ]
  },
  {
   "cell_type": "code",
   "execution_count": 23,
   "metadata": {},
   "outputs": [
    {
     "data": {
      "text/html": [
       "<div>\n",
       "<style scoped>\n",
       "    .dataframe tbody tr th:only-of-type {\n",
       "        vertical-align: middle;\n",
       "    }\n",
       "\n",
       "    .dataframe tbody tr th {\n",
       "        vertical-align: top;\n",
       "    }\n",
       "\n",
       "    .dataframe thead th {\n",
       "        text-align: right;\n",
       "    }\n",
       "</style>\n",
       "<table border=\"1\" class=\"dataframe\">\n",
       "  <thead>\n",
       "    <tr style=\"text-align: right;\">\n",
       "      <th></th>\n",
       "      <th>experiment_id</th>\n",
       "      <th>artifact_time_stamp</th>\n",
       "      <th>running_status</th>\n",
       "      <th>start_time</th>\n",
       "      <th>stop_time</th>\n",
       "      <th>execution_time</th>\n",
       "      <th>message</th>\n",
       "      <th>accuracy</th>\n",
       "      <th>is_model_accepted</th>\n",
       "      <th>created_time_stamp</th>\n",
       "    </tr>\n",
       "  </thead>\n",
       "  <tbody>\n",
       "    <tr>\n",
       "      <th>0</th>\n",
       "      <td>bc8d7344-17ac-4290-a026-3469dd408bb0</td>\n",
       "      <td>2022-12-14-21-31-03</td>\n",
       "      <td>True</td>\n",
       "      <td>2022-12-14 21:31:06.822008</td>\n",
       "      <td>NaN</td>\n",
       "      <td>NaN</td>\n",
       "      <td>Pipeline has been started.</td>\n",
       "      <td>NaN</td>\n",
       "      <td>NaN</td>\n",
       "      <td>2022-12-14 21:31:06.823008</td>\n",
       "    </tr>\n",
       "    <tr>\n",
       "      <th>1</th>\n",
       "      <td>bc8d7344-17ac-4290-a026-3469dd408bb0</td>\n",
       "      <td>2022-12-14-21-31-03</td>\n",
       "      <td>False</td>\n",
       "      <td>2022-12-14 21:31:06.822008</td>\n",
       "      <td>2022-12-14 21:34:23.161220</td>\n",
       "      <td>0 days 00:03:16.339212</td>\n",
       "      <td>Pipeline has been completed.</td>\n",
       "      <td>0.923391</td>\n",
       "      <td>False</td>\n",
       "      <td>2022-12-14 21:34:23.161220</td>\n",
       "    </tr>\n",
       "    <tr>\n",
       "      <th>2</th>\n",
       "      <td>18204956-0c6c-4420-9c5f-d51731574d11</td>\n",
       "      <td>2022-12-14-21-31-03</td>\n",
       "      <td>True</td>\n",
       "      <td>2022-12-14 21:34:23.227448</td>\n",
       "      <td>NaN</td>\n",
       "      <td>NaN</td>\n",
       "      <td>Pipeline has been started.</td>\n",
       "      <td>NaN</td>\n",
       "      <td>NaN</td>\n",
       "      <td>2022-12-14 21:34:23.227448</td>\n",
       "    </tr>\n",
       "    <tr>\n",
       "      <th>3</th>\n",
       "      <td>18204956-0c6c-4420-9c5f-d51731574d11</td>\n",
       "      <td>2022-12-14-21-31-03</td>\n",
       "      <td>False</td>\n",
       "      <td>2022-12-14 21:34:23.227448</td>\n",
       "      <td>2022-12-14 21:37:39.029735</td>\n",
       "      <td>0 days 00:03:15.802287</td>\n",
       "      <td>Pipeline has been completed.</td>\n",
       "      <td>0.918507</td>\n",
       "      <td>False</td>\n",
       "      <td>2022-12-14 21:37:39.029735</td>\n",
       "    </tr>\n",
       "    <tr>\n",
       "      <th>4</th>\n",
       "      <td>404c72b2-3629-477e-886e-4e1723833dcd</td>\n",
       "      <td>2022-12-14-21-40-13</td>\n",
       "      <td>True</td>\n",
       "      <td>2022-12-14 21:40:26.354197</td>\n",
       "      <td>NaN</td>\n",
       "      <td>NaN</td>\n",
       "      <td>Pipeline has been started.</td>\n",
       "      <td>NaN</td>\n",
       "      <td>NaN</td>\n",
       "      <td>2022-12-14 21:40:26.489805</td>\n",
       "    </tr>\n",
       "  </tbody>\n",
       "</table>\n",
       "</div>"
      ],
      "text/plain": [
       "                          experiment_id  artifact_time_stamp  running_status  \\\n",
       "0  bc8d7344-17ac-4290-a026-3469dd408bb0  2022-12-14-21-31-03            True   \n",
       "1  bc8d7344-17ac-4290-a026-3469dd408bb0  2022-12-14-21-31-03           False   \n",
       "2  18204956-0c6c-4420-9c5f-d51731574d11  2022-12-14-21-31-03            True   \n",
       "3  18204956-0c6c-4420-9c5f-d51731574d11  2022-12-14-21-31-03           False   \n",
       "4  404c72b2-3629-477e-886e-4e1723833dcd  2022-12-14-21-40-13            True   \n",
       "\n",
       "                   start_time                   stop_time  \\\n",
       "0  2022-12-14 21:31:06.822008                         NaN   \n",
       "1  2022-12-14 21:31:06.822008  2022-12-14 21:34:23.161220   \n",
       "2  2022-12-14 21:34:23.227448                         NaN   \n",
       "3  2022-12-14 21:34:23.227448  2022-12-14 21:37:39.029735   \n",
       "4  2022-12-14 21:40:26.354197                         NaN   \n",
       "\n",
       "           execution_time                       message  accuracy  \\\n",
       "0                     NaN    Pipeline has been started.       NaN   \n",
       "1  0 days 00:03:16.339212  Pipeline has been completed.  0.923391   \n",
       "2                     NaN    Pipeline has been started.       NaN   \n",
       "3  0 days 00:03:15.802287  Pipeline has been completed.  0.918507   \n",
       "4                     NaN    Pipeline has been started.       NaN   \n",
       "\n",
       "  is_model_accepted          created_time_stamp  \n",
       "0               NaN  2022-12-14 21:31:06.823008  \n",
       "1             False  2022-12-14 21:34:23.161220  \n",
       "2               NaN  2022-12-14 21:34:23.227448  \n",
       "3             False  2022-12-14 21:37:39.029735  \n",
       "4               NaN  2022-12-14 21:40:26.489805  "
      ]
     },
     "execution_count": 23,
     "metadata": {},
     "output_type": "execute_result"
    },
    {
     "name": "stdout",
     "output_type": "stream",
     "text": [
      "[CV] END ...............min_samples_leaf=4, n_estimators=200; total time=   3.4s\n",
      "[CV] END ...............min_samples_leaf=4, n_estimators=200; total time=   3.7s\n",
      "[CV] END ...............min_samples_leaf=4, n_estimators=200; total time=   4.1s\n",
      "[CV] END ...............min_samples_leaf=4, n_estimators=200; total time=   3.6s\n",
      "[CV] END ...............min_samples_leaf=4, n_estimators=300; total time=   5.8s\n"
     ]
    }
   ],
   "source": [
    "pipeline.get_experiments_status(limit=10)"
   ]
  },
  {
   "cell_type": "code",
   "execution_count": null,
   "metadata": {},
   "outputs": [],
   "source": []
  }
 ],
 "metadata": {
  "kernelspec": {
   "display_name": "Python 3",
   "language": "python",
   "name": "python3"
  },
  "language_info": {
   "codemirror_mode": {
    "name": "ipython",
    "version": 3
   },
   "file_extension": ".py",
   "mimetype": "text/x-python",
   "name": "python",
   "nbconvert_exporter": "python",
   "pygments_lexer": "ipython3",
   "version": "3.9.15"
  },
  "orig_nbformat": 4,
  "vscode": {
   "interpreter": {
    "hash": "2559219d1af0343b1aa2dfe76737aee2c2e8f2ac88a59c9a510715ae976b882a"
   }
  }
 },
 "nbformat": 4,
 "nbformat_minor": 2
}
