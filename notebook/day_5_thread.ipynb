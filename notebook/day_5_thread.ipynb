{
 "cells": [
  {
   "cell_type": "code",
   "execution_count": 1,
   "metadata": {},
   "outputs": [],
   "source": [
    "from threading import Thread\n",
    "import time"
   ]
  },
  {
   "cell_type": "code",
   "execution_count": 2,
   "metadata": {},
   "outputs": [],
   "source": [
    "class sample(Thread):\n",
    "    def __init_(self):\n",
    "        super().__init__(daemon=False,name=\"sample_thread\")\n",
    "    def print_text(self):\n",
    "        time.sleep(2)\n",
    "        print(f\"hello from thread\")\n",
    "    def run(self):\n",
    "        self.print_text()\n"
   ]
  },
  {
   "cell_type": "code",
   "execution_count": 3,
   "metadata": {},
   "outputs": [
    {
     "name": "stdout",
     "output_type": "stream",
     "text": [
      "hello im normal print statement\n",
      "hello from thread\n"
     ]
    }
   ],
   "source": [
    "s = sample()\n",
    "s.start()\n",
    "print(\"hello im normal print statement\")\n",
    "s.join()"
   ]
  },
  {
   "cell_type": "code",
   "execution_count": 4,
   "metadata": {},
   "outputs": [
    {
     "name": "stdout",
     "output_type": "stream",
     "text": [
      "hello from thread\n",
      "hello im normal print statement :) \n"
     ]
    }
   ],
   "source": [
    "s.run()\n",
    "print(\"hello im normal print statement :) \")"
   ]
  },
  {
   "cell_type": "code",
   "execution_count": null,
   "metadata": {},
   "outputs": [],
   "source": []
  }
 ],
 "metadata": {
  "kernelspec": {
   "display_name": "Python 3",
   "language": "python",
   "name": "python3"
  },
  "language_info": {
   "codemirror_mode": {
    "name": "ipython",
    "version": 3
   },
   "file_extension": ".py",
   "mimetype": "text/x-python",
   "name": "python",
   "nbconvert_exporter": "python",
   "pygments_lexer": "ipython3",
   "version": "3.9.15 (main, Nov 24 2022, 14:39:17) [MSC v.1916 64 bit (AMD64)]"
  },
  "orig_nbformat": 4,
  "vscode": {
   "interpreter": {
    "hash": "2559219d1af0343b1aa2dfe76737aee2c2e8f2ac88a59c9a510715ae976b882a"
   }
  }
 },
 "nbformat": 4,
 "nbformat_minor": 2
}
